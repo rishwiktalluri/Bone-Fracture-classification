{
 "cells": [
  {
   "cell_type": "code",
   "execution_count": 2,
   "id": "e1b2fdac-3005-4d31-9f16-257f2e32ab16",
   "metadata": {},
   "outputs": [
    {
     "name": "stdout",
     "output_type": "stream",
     "text": [
      "WARNING:tensorflow:From C:\\Users\\rishw\\AppData\\Local\\Programs\\Python\\Python39\\lib\\site-packages\\keras\\src\\losses.py:2976: The name tf.losses.sparse_softmax_cross_entropy is deprecated. Please use tf.compat.v1.losses.sparse_softmax_cross_entropy instead.\n",
      "\n"
     ]
    }
   ],
   "source": [
    "import os \n",
    "import cv2\n",
    "import pandas as pd\n",
    "import numpy as np\n",
    "import matplotlib.pyplot as plt\n",
    "import seaborn as sns\n",
    "from sklearn.model_selection import train_test_split\n",
    "from sklearn.preprocessing import LabelEncoder\n",
    "from keras.preprocessing.image import ImageDataGenerator\n",
    "import keras \n",
    "from keras.callbacks import EarlyStopping,ModelCheckpoint\n",
    "import tensorflow as tf\n",
    "from sklearn.metrics import confusion_matrix\n",
    "from sklearn.metrics import classification_report\n",
    "from tqdm import tqdm"
   ]
  },
  {
   "cell_type": "code",
   "execution_count": 3,
   "id": "1ac1ca83-8a47-4a1a-bb15-5a1f083f1fb1",
   "metadata": {},
   "outputs": [],
   "source": [
    "def data(dataset_path):\n",
    "    images = []\n",
    "    labels = []\n",
    "    for subfolder in os.listdir(dataset_path):\n",
    "        subfolder_path = os.path.join(dataset_path, subfolder)\n",
    "        if not os.path.isdir(subfolder_path):\n",
    "            continue\n",
    "        for image_filename in os.listdir(subfolder_path):\n",
    "            if image_filename.endswith(\".jpg\"):\n",
    "                image_path = os.path.join(subfolder_path, image_filename)\n",
    "                images.append(image_path)\n",
    "                labels.append(subfolder)\n",
    "    df = pd.DataFrame({'image': images, 'label': labels})\n",
    "    return df"
   ]
  },
  {
   "cell_type": "code",
   "execution_count": 4,
   "id": "cab424e4-fc6a-40d0-b7fb-5a578251aee7",
   "metadata": {},
   "outputs": [
    {
     "data": {
      "text/html": [
       "<div>\n",
       "<style scoped>\n",
       "    .dataframe tbody tr th:only-of-type {\n",
       "        vertical-align: middle;\n",
       "    }\n",
       "\n",
       "    .dataframe tbody tr th {\n",
       "        vertical-align: top;\n",
       "    }\n",
       "\n",
       "    .dataframe thead th {\n",
       "        text-align: right;\n",
       "    }\n",
       "</style>\n",
       "<table border=\"1\" class=\"dataframe\">\n",
       "  <thead>\n",
       "    <tr style=\"text-align: right;\">\n",
       "      <th></th>\n",
       "      <th>image</th>\n",
       "      <th>label</th>\n",
       "    </tr>\n",
       "  </thead>\n",
       "  <tbody>\n",
       "    <tr>\n",
       "      <th>0</th>\n",
       "      <td>D:\\Downloads IDM\\Compressed\\dataset\\train\\frac...</td>\n",
       "      <td>fractured</td>\n",
       "    </tr>\n",
       "    <tr>\n",
       "      <th>1</th>\n",
       "      <td>D:\\Downloads IDM\\Compressed\\dataset\\train\\frac...</td>\n",
       "      <td>fractured</td>\n",
       "    </tr>\n",
       "    <tr>\n",
       "      <th>2</th>\n",
       "      <td>D:\\Downloads IDM\\Compressed\\dataset\\train\\frac...</td>\n",
       "      <td>fractured</td>\n",
       "    </tr>\n",
       "    <tr>\n",
       "      <th>3</th>\n",
       "      <td>D:\\Downloads IDM\\Compressed\\dataset\\train\\frac...</td>\n",
       "      <td>fractured</td>\n",
       "    </tr>\n",
       "    <tr>\n",
       "      <th>4</th>\n",
       "      <td>D:\\Downloads IDM\\Compressed\\dataset\\train\\frac...</td>\n",
       "      <td>fractured</td>\n",
       "    </tr>\n",
       "  </tbody>\n",
       "</table>\n",
       "</div>"
      ],
      "text/plain": [
       "                                               image      label\n",
       "0  D:\\Downloads IDM\\Compressed\\dataset\\train\\frac...  fractured\n",
       "1  D:\\Downloads IDM\\Compressed\\dataset\\train\\frac...  fractured\n",
       "2  D:\\Downloads IDM\\Compressed\\dataset\\train\\frac...  fractured\n",
       "3  D:\\Downloads IDM\\Compressed\\dataset\\train\\frac...  fractured\n",
       "4  D:\\Downloads IDM\\Compressed\\dataset\\train\\frac...  fractured"
      ]
     },
     "execution_count": 4,
     "metadata": {},
     "output_type": "execute_result"
    }
   ],
   "source": [
    "train=data('D:\\\\Downloads IDM\\\\Compressed\\\\dataset\\\\train')\n",
    "train.head()"
   ]
  },
  {
   "cell_type": "code",
   "execution_count": 5,
   "id": "5ee9d494-5baa-4d94-a0da-371b9340be73",
   "metadata": {},
   "outputs": [
    {
     "data": {
      "text/html": [
       "<div>\n",
       "<style scoped>\n",
       "    .dataframe tbody tr th:only-of-type {\n",
       "        vertical-align: middle;\n",
       "    }\n",
       "\n",
       "    .dataframe tbody tr th {\n",
       "        vertical-align: top;\n",
       "    }\n",
       "\n",
       "    .dataframe thead th {\n",
       "        text-align: right;\n",
       "    }\n",
       "</style>\n",
       "<table border=\"1\" class=\"dataframe\">\n",
       "  <thead>\n",
       "    <tr style=\"text-align: right;\">\n",
       "      <th></th>\n",
       "      <th>image</th>\n",
       "      <th>label</th>\n",
       "    </tr>\n",
       "  </thead>\n",
       "  <tbody>\n",
       "    <tr>\n",
       "      <th>0</th>\n",
       "      <td>D:\\Downloads IDM\\Compressed\\dataset\\test\\fract...</td>\n",
       "      <td>fractured</td>\n",
       "    </tr>\n",
       "    <tr>\n",
       "      <th>1</th>\n",
       "      <td>D:\\Downloads IDM\\Compressed\\dataset\\test\\fract...</td>\n",
       "      <td>fractured</td>\n",
       "    </tr>\n",
       "    <tr>\n",
       "      <th>2</th>\n",
       "      <td>D:\\Downloads IDM\\Compressed\\dataset\\test\\fract...</td>\n",
       "      <td>fractured</td>\n",
       "    </tr>\n",
       "    <tr>\n",
       "      <th>3</th>\n",
       "      <td>D:\\Downloads IDM\\Compressed\\dataset\\test\\fract...</td>\n",
       "      <td>fractured</td>\n",
       "    </tr>\n",
       "    <tr>\n",
       "      <th>4</th>\n",
       "      <td>D:\\Downloads IDM\\Compressed\\dataset\\test\\fract...</td>\n",
       "      <td>fractured</td>\n",
       "    </tr>\n",
       "  </tbody>\n",
       "</table>\n",
       "</div>"
      ],
      "text/plain": [
       "                                               image      label\n",
       "0  D:\\Downloads IDM\\Compressed\\dataset\\test\\fract...  fractured\n",
       "1  D:\\Downloads IDM\\Compressed\\dataset\\test\\fract...  fractured\n",
       "2  D:\\Downloads IDM\\Compressed\\dataset\\test\\fract...  fractured\n",
       "3  D:\\Downloads IDM\\Compressed\\dataset\\test\\fract...  fractured\n",
       "4  D:\\Downloads IDM\\Compressed\\dataset\\test\\fract...  fractured"
      ]
     },
     "execution_count": 5,
     "metadata": {},
     "output_type": "execute_result"
    }
   ],
   "source": [
    "#test\n",
    "test=data('D:\\\\Downloads IDM\\\\Compressed\\\\dataset\\\\test')\n",
    "test.head()"
   ]
  },
  {
   "cell_type": "code",
   "execution_count": 6,
   "id": "05a607a1-ffb5-4fd5-9a65-ed91a1ae4bbe",
   "metadata": {},
   "outputs": [
    {
     "data": {
      "text/html": [
       "<div>\n",
       "<style scoped>\n",
       "    .dataframe tbody tr th:only-of-type {\n",
       "        vertical-align: middle;\n",
       "    }\n",
       "\n",
       "    .dataframe tbody tr th {\n",
       "        vertical-align: top;\n",
       "    }\n",
       "\n",
       "    .dataframe thead th {\n",
       "        text-align: right;\n",
       "    }\n",
       "</style>\n",
       "<table border=\"1\" class=\"dataframe\">\n",
       "  <thead>\n",
       "    <tr style=\"text-align: right;\">\n",
       "      <th></th>\n",
       "      <th>image</th>\n",
       "      <th>label</th>\n",
       "    </tr>\n",
       "  </thead>\n",
       "  <tbody>\n",
       "    <tr>\n",
       "      <th>0</th>\n",
       "      <td>D:\\Downloads IDM\\Compressed\\dataset\\val\\fractu...</td>\n",
       "      <td>fractured</td>\n",
       "    </tr>\n",
       "    <tr>\n",
       "      <th>1</th>\n",
       "      <td>D:\\Downloads IDM\\Compressed\\dataset\\val\\fractu...</td>\n",
       "      <td>fractured</td>\n",
       "    </tr>\n",
       "    <tr>\n",
       "      <th>2</th>\n",
       "      <td>D:\\Downloads IDM\\Compressed\\dataset\\val\\fractu...</td>\n",
       "      <td>fractured</td>\n",
       "    </tr>\n",
       "    <tr>\n",
       "      <th>3</th>\n",
       "      <td>D:\\Downloads IDM\\Compressed\\dataset\\val\\fractu...</td>\n",
       "      <td>fractured</td>\n",
       "    </tr>\n",
       "    <tr>\n",
       "      <th>4</th>\n",
       "      <td>D:\\Downloads IDM\\Compressed\\dataset\\val\\fractu...</td>\n",
       "      <td>fractured</td>\n",
       "    </tr>\n",
       "  </tbody>\n",
       "</table>\n",
       "</div>"
      ],
      "text/plain": [
       "                                               image      label\n",
       "0  D:\\Downloads IDM\\Compressed\\dataset\\val\\fractu...  fractured\n",
       "1  D:\\Downloads IDM\\Compressed\\dataset\\val\\fractu...  fractured\n",
       "2  D:\\Downloads IDM\\Compressed\\dataset\\val\\fractu...  fractured\n",
       "3  D:\\Downloads IDM\\Compressed\\dataset\\val\\fractu...  fractured\n",
       "4  D:\\Downloads IDM\\Compressed\\dataset\\val\\fractu...  fractured"
      ]
     },
     "execution_count": 6,
     "metadata": {},
     "output_type": "execute_result"
    }
   ],
   "source": [
    "val=data('D:\\\\Downloads IDM\\\\Compressed\\\\dataset\\\\val')\n",
    "val.head()"
   ]
  },
  {
   "cell_type": "code",
   "execution_count": 7,
   "id": "78dd83f8-ceef-4444-a8db-c2f8408ce04a",
   "metadata": {},
   "outputs": [
    {
     "name": "stdout",
     "output_type": "stream",
     "text": [
      "Found 4097 validated image filenames belonging to 2 classes.\n",
      "Found 399 validated image filenames belonging to 2 classes.\n",
      "Found 404 validated image filenames belonging to 2 classes.\n"
     ]
    }
   ],
   "source": [
    "image_size = (224, 224)\n",
    "batch_size = 32\n",
    "datagen = ImageDataGenerator(\n",
    "    rescale=1./255\n",
    ")\n",
    "train_generator = datagen.flow_from_dataframe(\n",
    "    train,\n",
    "    x_col='image',\n",
    "    y_col='label',\n",
    "    target_size=image_size,\n",
    "    batch_size=batch_size,\n",
    "    class_mode='binary',\n",
    "    shuffle=True\n",
    ")\n",
    "test_generator = datagen.flow_from_dataframe(\n",
    "    test,\n",
    "    x_col='image',\n",
    "    y_col='label',\n",
    "    target_size=image_size,\n",
    "    batch_size=batch_size,\n",
    "    class_mode='binary',\n",
    "    shuffle=False\n",
    ")\n",
    "val_generator = datagen.flow_from_dataframe(\n",
    "    val,\n",
    "    x_col='image',\n",
    "    y_col='label',\n",
    "    target_size=image_size,\n",
    "    batch_size=batch_size,\n",
    "    class_mode='binary',\n",
    "    shuffle=True\n",
    ")\n"
   ]
  },
  {
   "cell_type": "code",
   "execution_count": 8,
   "id": "a2317da6-cab5-4aa6-bb5f-75827540a4db",
   "metadata": {},
   "outputs": [
    {
     "name": "stdout",
     "output_type": "stream",
     "text": [
      "WARNING:tensorflow:From C:\\Users\\rishw\\AppData\\Local\\Programs\\Python\\Python39\\lib\\site-packages\\keras\\src\\backend.py:873: The name tf.get_default_graph is deprecated. Please use tf.compat.v1.get_default_graph instead.\n",
      "\n",
      "WARNING:tensorflow:From C:\\Users\\rishw\\AppData\\Local\\Programs\\Python\\Python39\\lib\\site-packages\\keras\\src\\layers\\normalization\\batch_normalization.py:979: The name tf.nn.fused_batch_norm is deprecated. Please use tf.compat.v1.nn.fused_batch_norm instead.\n",
      "\n",
      "Model: \"sequential\"\n",
      "_________________________________________________________________\n",
      " Layer (type)                Output Shape              Param #   \n",
      "=================================================================\n",
      " conv2d (Conv2D)             (None, 222, 222, 32)      896       \n",
      "                                                                 \n",
      " batch_normalization (Batch  (None, 222, 222, 32)      128       \n",
      " Normalization)                                                  \n",
      "                                                                 \n",
      " max_pooling2d (MaxPooling2  (None, 111, 111, 32)      0         \n",
      " D)                                                              \n",
      "                                                                 \n",
      " conv2d_1 (Conv2D)           (None, 109, 109, 64)      18496     \n",
      "                                                                 \n",
      " batch_normalization_1 (Bat  (None, 109, 109, 64)      256       \n",
      " chNormalization)                                                \n",
      "                                                                 \n",
      " max_pooling2d_1 (MaxPoolin  (None, 54, 54, 64)        0         \n",
      " g2D)                                                            \n",
      "                                                                 \n",
      " dropout (Dropout)           (None, 54, 54, 64)        0         \n",
      "                                                                 \n",
      " conv2d_2 (Conv2D)           (None, 52, 52, 128)       73856     \n",
      "                                                                 \n",
      " batch_normalization_2 (Bat  (None, 52, 52, 128)       512       \n",
      " chNormalization)                                                \n",
      "                                                                 \n",
      " max_pooling2d_2 (MaxPoolin  (None, 26, 26, 128)       0         \n",
      " g2D)                                                            \n",
      "                                                                 \n",
      " dropout_1 (Dropout)         (None, 26, 26, 128)       0         \n",
      "                                                                 \n",
      " flatten (Flatten)           (None, 86528)             0         \n",
      "                                                                 \n",
      " dense (Dense)               (None, 256)               22151424  \n",
      "                                                                 \n",
      " dropout_2 (Dropout)         (None, 256)               0         \n",
      "                                                                 \n",
      " dense_1 (Dense)             (None, 128)               32896     \n",
      "                                                                 \n",
      " dropout_3 (Dropout)         (None, 128)               0         \n",
      "                                                                 \n",
      " dense_2 (Dense)             (None, 1)                 129       \n",
      "                                                                 \n",
      "=================================================================\n",
      "Total params: 22278593 (84.99 MB)\n",
      "Trainable params: 22278145 (84.98 MB)\n",
      "Non-trainable params: 448 (1.75 KB)\n",
      "_________________________________________________________________\n"
     ]
    }
   ],
   "source": [
    "class_num=1\n",
    "model=keras.models.Sequential()\n",
    "model.add(keras.layers.Conv2D(filters=32, kernel_size=(3,3),activation=tf.nn.relu,input_shape=(224,224,3)))\n",
    "model.add(keras.layers.BatchNormalization())\n",
    "model.add(keras.layers.MaxPool2D((2,2)))  \n",
    "model.add(keras.layers.Conv2D(filters=64, kernel_size=(3,3),activation=tf.nn.relu)) \n",
    "model.add(keras.layers.BatchNormalization())\n",
    "model.add(keras.layers.MaxPool2D((2,2))) \n",
    "model.add(keras.layers.Dropout(.3)) \n",
    "model.add(keras.layers.Conv2D(filters=128, kernel_size=(3,3),activation=tf.nn.relu))\n",
    "model.add(keras.layers.BatchNormalization())\n",
    "model.add(keras.layers.MaxPool2D((2,2))) \n",
    "model.add(keras.layers.Dropout(.3)) \n",
    "model.add(keras.layers.Flatten())\n",
    "model.add(keras.layers.Dense(256,activation=tf.nn.relu))\n",
    "model.add(keras.layers.Dropout(.3)) \n",
    "model.add(keras.layers.Dense(128,activation=tf.nn.relu)) \n",
    "model.add(keras.layers.Dropout(.3)) \n",
    "model.add(keras.layers.Dense(class_num,activation=tf.nn.sigmoid))\n",
    "model.summary()"
   ]
  },
  {
   "cell_type": "code",
   "execution_count": 9,
   "id": "a07b3c8b-22fc-4b72-a95b-2598725449aa",
   "metadata": {},
   "outputs": [
    {
     "name": "stdout",
     "output_type": "stream",
     "text": [
      "WARNING:tensorflow:From C:\\Users\\rishw\\AppData\\Local\\Programs\\Python\\Python39\\lib\\site-packages\\keras\\src\\optimizers\\__init__.py:309: The name tf.train.Optimizer is deprecated. Please use tf.compat.v1.train.Optimizer instead.\n",
      "\n"
     ]
    },
    {
     "name": "stderr",
     "output_type": "stream",
     "text": [
      "C:\\Users\\rishw\\AppData\\Local\\Temp\\ipykernel_10792\\3987725423.py:4: UserWarning: `Model.fit_generator` is deprecated and will be removed in a future version. Please use `Model.fit`, which supports generators.\n",
      "  hist=model.fit_generator(train_generator,epochs=10,validation_data=val_generator,callbacks=[checkpoint_cb,early_stopping_cb])\n"
     ]
    },
    {
     "name": "stdout",
     "output_type": "stream",
     "text": [
      "Epoch 1/10\n",
      "WARNING:tensorflow:From C:\\Users\\rishw\\AppData\\Local\\Programs\\Python\\Python39\\lib\\site-packages\\keras\\src\\utils\\tf_utils.py:492: The name tf.ragged.RaggedTensorValue is deprecated. Please use tf.compat.v1.ragged.RaggedTensorValue instead.\n",
      "\n",
      "WARNING:tensorflow:From C:\\Users\\rishw\\AppData\\Local\\Programs\\Python\\Python39\\lib\\site-packages\\keras\\src\\engine\\base_layer_utils.py:384: The name tf.executing_eagerly_outside_functions is deprecated. Please use tf.compat.v1.executing_eagerly_outside_functions instead.\n",
      "\n",
      "129/129 [==============================] - ETA: 0s - loss: 3.1974 - accuracy: 0.7379 - specificity_at_sensitivity: 0.8340 - auc: 0.7845"
     ]
    },
    {
     "name": "stderr",
     "output_type": "stream",
     "text": [
      "C:\\Users\\rishw\\AppData\\Local\\Programs\\Python\\Python39\\lib\\site-packages\\keras\\src\\engine\\training.py:3103: UserWarning: You are saving your model as an HDF5 file via `model.save()`. This file format is considered legacy. We recommend using instead the native Keras format, e.g. `model.save('my_model.keras')`.\n",
      "  saving_api.save_model(\n"
     ]
    },
    {
     "name": "stdout",
     "output_type": "stream",
     "text": [
      "129/129 [==============================] - 245s 2s/step - loss: 3.1974 - accuracy: 0.7379 - specificity_at_sensitivity: 0.8340 - auc: 0.7845 - val_loss: 13.8152 - val_accuracy: 0.5842 - val_specificity_at_sensitivity: 0.0000e+00 - val_auc: 0.5000\n",
      "Epoch 2/10\n",
      "129/129 [==============================] - 230s 2s/step - loss: 0.7651 - accuracy: 0.8711 - specificity_at_sensitivity: 0.9495 - auc: 0.9242 - val_loss: 3.9389 - val_accuracy: 0.6262 - val_specificity_at_sensitivity: 0.2440 - val_auc: 0.6186\n",
      "Epoch 3/10\n",
      "129/129 [==============================] - 230s 2s/step - loss: 0.3365 - accuracy: 0.9314 - specificity_at_sensitivity: 0.9764 - auc: 0.9701 - val_loss: 3.5361 - val_accuracy: 0.7054 - val_specificity_at_sensitivity: 0.5000 - val_auc: 0.7018\n",
      "Epoch 4/10\n",
      "129/129 [==============================] - 226s 2s/step - loss: 0.2954 - accuracy: 0.9431 - specificity_at_sensitivity: 0.9832 - auc: 0.9764 - val_loss: 1.5907 - val_accuracy: 0.8342 - val_specificity_at_sensitivity: 0.7440 - val_auc: 0.8569\n",
      "Epoch 5/10\n",
      "129/129 [==============================] - 226s 2s/step - loss: 0.2718 - accuracy: 0.9531 - specificity_at_sensitivity: 0.9817 - auc: 0.9792 - val_loss: 0.1543 - val_accuracy: 0.9604 - val_specificity_at_sensitivity: 0.9762 - val_auc: 0.9874\n",
      "Epoch 6/10\n",
      "129/129 [==============================] - 259s 2s/step - loss: 0.1627 - accuracy: 0.9653 - specificity_at_sensitivity: 0.9899 - auc: 0.9868 - val_loss: 0.0944 - val_accuracy: 0.9703 - val_specificity_at_sensitivity: 1.0000 - val_auc: 0.9950\n",
      "Epoch 7/10\n",
      "129/129 [==============================] - 228s 2s/step - loss: 0.1172 - accuracy: 0.9717 - specificity_at_sensitivity: 0.9937 - auc: 0.9912 - val_loss: 0.1598 - val_accuracy: 0.9579 - val_specificity_at_sensitivity: 1.0000 - val_auc: 0.9936\n",
      "Epoch 8/10\n",
      "129/129 [==============================] - 230s 2s/step - loss: 0.0871 - accuracy: 0.9783 - specificity_at_sensitivity: 0.9966 - auc: 0.9945 - val_loss: 0.0015 - val_accuracy: 1.0000 - val_specificity_at_sensitivity: 1.0000 - val_auc: 1.0000\n",
      "Epoch 9/10\n",
      "129/129 [==============================] - 226s 2s/step - loss: 0.1192 - accuracy: 0.9746 - specificity_at_sensitivity: 0.9942 - auc: 0.9921 - val_loss: 0.6165 - val_accuracy: 0.9183 - val_specificity_at_sensitivity: 0.9881 - val_auc: 0.9549\n",
      "Epoch 10/10\n",
      "129/129 [==============================] - 227s 2s/step - loss: 0.1100 - accuracy: 0.9766 - specificity_at_sensitivity: 0.9952 - auc: 0.9924 - val_loss: 0.0074 - val_accuracy: 0.9975 - val_specificity_at_sensitivity: 1.0000 - val_auc: 1.0000\n"
     ]
    }
   ],
   "source": [
    "checkpoint_cb =ModelCheckpoint(\"my_keras_model.h5\", save_best_only=True)\n",
    "early_stopping_cb =EarlyStopping(patience=5, restore_best_weights=True)\n",
    "model.compile(optimizer ='adam', loss='binary_crossentropy', metrics=['accuracy',keras.metrics.SpecificityAtSensitivity(0.5),keras.metrics.AUC()])\n",
    "hist=model.fit_generator(train_generator,epochs=10,validation_data=val_generator,callbacks=[checkpoint_cb,early_stopping_cb]) "
   ]
  },
  {
   "cell_type": "code",
   "execution_count": null,
   "id": "4b08bfbf-a451-4e8a-b508-e017e3e167fd",
   "metadata": {},
   "outputs": [],
   "source": []
  }
 ],
 "metadata": {
  "kernelspec": {
   "display_name": "Python 3 (ipykernel)",
   "language": "python",
   "name": "python3"
  },
  "language_info": {
   "codemirror_mode": {
    "name": "ipython",
    "version": 3
   },
   "file_extension": ".py",
   "mimetype": "text/x-python",
   "name": "python",
   "nbconvert_exporter": "python",
   "pygments_lexer": "ipython3",
   "version": "3.9.13"
  }
 },
 "nbformat": 4,
 "nbformat_minor": 5
}
